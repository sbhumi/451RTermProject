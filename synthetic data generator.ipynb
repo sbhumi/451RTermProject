{
 "cells": [
  {
   "cell_type": "markdown",
   "id": "4d5bd799",
   "metadata": {},
   "source": [
    "# with open('syntheticdata.txt', 'w') as f:\n",
    "    for x in range(10):\n",
    "        \n",
    "        f.write('INSERT INTO STUDENT ' + {} + ', \"fname\", \"lname\", 2035, \"email\", 9999999999, \"somewhere\", \"2020-12-15\", 0, \"U\", 3.5, 24, 2, \"CS\", \"CS\"'.format(x) )"
   ]
  },
  {
   "cell_type": "code",
   "execution_count": 40,
   "id": "f32c05c9",
   "metadata": {},
   "outputs": [],
   "source": [
    "with open('syntheticdata.txt', 'w') as f:\n",
    "    for x in range(10):\n",
    "        f.write('INSERT INTO CLASSES VALUES ({}, \\'CS\\', \\'SOME CLASS\\', \\'A CLASS\\');\\n'.format(x))\n",
    "        f.write('INSERT INTO JOB VALUES ({}, {}, \\'AJOB\\', 3, \\'DESCRIPTION\\');\\n'.format(x, x))\n",
    "        f.write('INSERT INTO JOB_REQUIREMENTS VALUES ({}, {}, 3.0);\\n'.format(x,x))"
   ]
  },
  {
   "cell_type": "code",
   "execution_count": 41,
   "id": "22bcc336",
   "metadata": {},
   "outputs": [],
   "source": [
    "with open('syntheticdata.txt', 'a') as f:\n",
    "    for x in range(20):\n",
    "        f.write('INSERT INTO STUDENT VALUES ({}, \\'fname\\', \\'lname\\', 2035, \\'email\\', 9999999999, \\'somewhere\\', \\'2020-12-15\\', 0, \\'U\\', 3.5, 24, 2, \\'CS\\', \\'CS\\');\\n'.format(x))\n",
    "       \n"
   ]
  },
  {
   "cell_type": "code",
   "execution_count": 42,
   "id": "08262a3a",
   "metadata": {},
   "outputs": [],
   "source": [
    "with open('syntheticdata.txt', 'a') as f:\n",
    "    for x in range(10):\n",
    "        f.write('INSERT INTO CLASSES_TAKEN VALUES ({}, {}, 3.95, 1, \\'UMKC\\', \\'2020-11-18\\');\\n'.format(x, x))\n",
    "       \n"
   ]
  },
  {
   "cell_type": "code",
   "execution_count": 43,
   "id": "3794e735",
   "metadata": {},
   "outputs": [],
   "source": [
    "with open('syntheticdata.txt', 'a') as f:\n",
    "    for x in range(10):\n",
    "        f.write('INSERT INTO CLASSES_TAKEN VALUES({}, {}, 3.95, 1, \\'UMKC\\', \\'2020-11-18\\');\\n'.format(10 +x, x))\n",
    "       "
   ]
  },
  {
   "cell_type": "code",
   "execution_count": 44,
   "id": "da967a76",
   "metadata": {},
   "outputs": [],
   "source": [
    "import random as rand\n",
    "with open('syntheticdata.txt', 'a') as f:\n",
    "    for x in range(10):\n",
    "        f.write('INSERT INTO CLASSES_TAKEN VALUES ({}, {}, 3.95, 1, \\'UMKC\\', \\'2020-11-18\\');\\n'.format(rand.randrange(0,20), rand.randrange(0,10)))\n",
    "       "
   ]
  },
  {
   "cell_type": "code",
   "execution_count": 45,
   "id": "12f4404a",
   "metadata": {},
   "outputs": [],
   "source": []
  },
  {
   "cell_type": "code",
   "execution_count": null,
   "id": "ffd0e9d6",
   "metadata": {},
   "outputs": [],
   "source": []
  }
 ],
 "metadata": {
  "kernelspec": {
   "display_name": "Python 3 (ipykernel)",
   "language": "python",
   "name": "python3"
  },
  "language_info": {
   "codemirror_mode": {
    "name": "ipython",
    "version": 3
   },
   "file_extension": ".py",
   "mimetype": "text/x-python",
   "name": "python",
   "nbconvert_exporter": "python",
   "pygments_lexer": "ipython3",
   "version": "3.9.2"
  }
 },
 "nbformat": 4,
 "nbformat_minor": 5
}
